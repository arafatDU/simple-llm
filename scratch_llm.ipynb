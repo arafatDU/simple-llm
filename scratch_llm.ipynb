{
  "nbformat": 4,
  "nbformat_minor": 0,
  "metadata": {
    "colab": {
      "provenance": [],
      "gpuType": "T4",
      "authorship_tag": "ABX9TyOUphVPnMq4ZKthiDgPHZmh",
      "include_colab_link": true
    },
    "kernelspec": {
      "name": "python3",
      "display_name": "Python 3"
    },
    "language_info": {
      "name": "python"
    },
    "accelerator": "GPU"
  },
  "cells": [
    {
      "cell_type": "markdown",
      "metadata": {
        "id": "view-in-github",
        "colab_type": "text"
      },
      "source": [
        "<a href=\"https://colab.research.google.com/github/arafatDU/simple-llm/blob/main/scratch_llm.ipynb\" target=\"_parent\"><img src=\"https://colab.research.google.com/assets/colab-badge.svg\" alt=\"Open In Colab\"/></a>"
      ]
    },
    {
      "cell_type": "markdown",
      "source": [
        "# Building a Large Language Model from Scratch\n",
        "Modern language models (like GPT-4) use transformers, a deep learning architecture that learns word relationships through self-attention. We’ll build a basic transformer-based model to understand how to build a large language model from scratch. The goal of our language model will be to predict the next word.\n",
        "\n",
        "Here are the six main components we’ll cover:\n",
        "\n",
        "* Tokenization\n",
        "* Embedding Layer\n",
        "* Positional Encoding\n",
        "* Self-Attention\n",
        "* Transformer Block\n",
        "* Full Language Model"
      ],
      "metadata": {
        "id": "EEIBFzupqY3G"
      }
    },
    {
      "cell_type": "markdown",
      "source": [
        "# Import Packages"
      ],
      "metadata": {
        "id": "2YCUOKyprE6p"
      }
    },
    {
      "cell_type": "code",
      "source": [
        "\n",
        "import torch\n",
        "import torch.nn as nn\n",
        "import torch.optim as optim\n",
        "import math\n"
      ],
      "metadata": {
        "id": "1ML2U4bTq4QT"
      },
      "execution_count": 1,
      "outputs": []
    },
    {
      "cell_type": "markdown",
      "source": [
        "# Step 1: Tokenization"
      ],
      "metadata": {
        "id": "DZGKE-8yrJeK"
      }
    },
    {
      "cell_type": "code",
      "source": [
        "def tokenize(text, vocab):\n",
        "    return [vocab.get(word, vocab[\"\"]) for word in text.split()]\n",
        "\n",
        "\n",
        "# text.split(): spliting sentences into words\n",
        "# vocab: a dictionary that assign number to words."
      ],
      "metadata": {
        "id": "jVTIyRmAr7fF"
      },
      "execution_count": 2,
      "outputs": []
    },
    {
      "cell_type": "markdown",
      "source": [
        "# Step 2: Embedding Layer"
      ],
      "metadata": {
        "id": "nY6IPDDgsCHX"
      }
    },
    {
      "cell_type": "code",
      "source": [
        "class Embedding(nn.Module):\n",
        "    def __init__(self, vocab_size, embedding_dim):\n",
        "        super(Embedding, self).__init__()\n",
        "        self.embedding = nn.Embedding(vocab_size, embedding_dim)\n",
        "\n",
        "    def forward(self, x):\n",
        "        return self.embedding(x)\n",
        "\n",
        "\n",
        "# nn.Embedding: creates a table where each word is maps to a vector.\n",
        "# embedding_dim: defines the length of each vector"
      ],
      "metadata": {
        "id": "nQEY_EjUsncT"
      },
      "execution_count": 3,
      "outputs": []
    },
    {
      "cell_type": "markdown",
      "source": [
        "# Step 3: Positional Encoding"
      ],
      "metadata": {
        "id": "tqH19p0ectlZ"
      }
    },
    {
      "cell_type": "code",
      "source": [
        "class PositionalEncoding(nn.Module):\n",
        "    def __init__(self, embedding_dim, max_seq_len=5000):\n",
        "        super(PositionalEncoding, self).__init__()\n",
        "        self.embedding_dim = embedding_dim\n",
        "        pe = torch.zeros(max_seq_len, embedding_dim)\n",
        "        position = torch.arange(0, max_seq_len, dtype=torch.float).unsqueeze(1)\n",
        "        div_term = torch.exp(torch.arange(0, embedding_dim, 2).float() * (-math.log(10000.0) / embedding_dim))\n",
        "        pe[:, 0::2] = torch.sin(position * div_term)\n",
        "        pe[:, 1::2] = torch.cos(position * div_term)\n",
        "        pe = pe.unsqueeze(0).transpose(0, 1)\n",
        "        self.register_buffer('pe', pe)\n",
        "\n",
        "    def forward(self, x):\n",
        "        return x + self.pe[:x.size(0), :]"
      ],
      "metadata": {
        "id": "0gkxFL6ydux9"
      },
      "execution_count": 4,
      "outputs": []
    },
    {
      "cell_type": "markdown",
      "source": [
        "# Step 4: Self-Attention"
      ],
      "metadata": {
        "id": "cKn9Pp6yeBJ_"
      }
    },
    {
      "cell_type": "code",
      "source": [
        "class SelfAttention(nn.Module):\n",
        "    def __init__(self, embedding_dim):\n",
        "        super(SelfAttention, self).__init__()\n",
        "        self.query = nn.Linear(embedding_dim, embedding_dim)\n",
        "        self.key = nn.Linear(embedding_dim, embedding_dim)\n",
        "        self.value = nn.Linear(embedding_dim, embedding_dim)\n",
        "\n",
        "    def forward(self, x):\n",
        "        queries = self.query(x)\n",
        "        keys = self.key(x)\n",
        "        values = self.value(x)\n",
        "        scores = torch.bmm(queries, keys.transpose(1, 2)) / torch.sqrt(torch.tensor(x.size(-1), dtype=torch.float32))\n",
        "        attention_weights = torch.softmax(scores, dim=-1)\n",
        "        attended_values = torch.bmm(attention_weights, values)\n",
        "        return attended_values\n",
        ""
      ],
      "metadata": {
        "id": "GHtf1zaNeExa"
      },
      "execution_count": 5,
      "outputs": []
    },
    {
      "cell_type": "markdown",
      "source": [
        "# Step 5: Transformer Block"
      ],
      "metadata": {
        "id": "Aw7PCavifSBv"
      }
    },
    {
      "cell_type": "code",
      "source": [
        "class TransformerBlock(nn.Module):\n",
        "    def __init__(self, embedding_dim, hidden_dim):\n",
        "        super(TransformerBlock, self).__init__()\n",
        "        self.attention = SelfAttention(embedding_dim)\n",
        "        self.feed_forward = nn.Sequential(\n",
        "            nn.Linear(embedding_dim, hidden_dim),\n",
        "            nn.ReLU(),\n",
        "            nn.Linear(hidden_dim, embedding_dim)\n",
        "        )\n",
        "        self.norm1 = nn.LayerNorm(embedding_dim)\n",
        "        self.norm2 = nn.LayerNorm(embedding_dim)\n",
        "\n",
        "    def forward(self, x):\n",
        "        attended = self.attention(x)\n",
        "        x = self.norm1(x + attended)\n",
        "        forwarded = self.feed_forward(x)\n",
        "        x = self.norm2(x + forwarded)\n",
        "        return x"
      ],
      "metadata": {
        "id": "iGFfpjNsfYm0"
      },
      "execution_count": 6,
      "outputs": []
    },
    {
      "cell_type": "markdown",
      "source": [
        "# Step 6: Full Language Model"
      ],
      "metadata": {
        "id": "-KnFefkUhVI3"
      }
    },
    {
      "cell_type": "code",
      "source": [
        "class SimpleLLM(nn.Module):\n",
        "    def __init__(self, vocab_size, embedding_dim, hidden_dim, num_layers):\n",
        "        super(SimpleLLM, self).__init__()\n",
        "        self.embedding = Embedding(vocab_size, embedding_dim)\n",
        "        self.positional_encoding = PositionalEncoding(embedding_dim)\n",
        "        self.transformer_blocks = nn.Sequential(*[TransformerBlock(embedding_dim, hidden_dim) for _ in range(num_layers)])\n",
        "        self.output = nn.Linear(embedding_dim, vocab_size)\n",
        "\n",
        "    def forward(self, x):\n",
        "        x = self.embedding(x)\n",
        "        x = x.transpose(0, 1) # Transpose for positional encoding\n",
        "        x = self.positional_encoding(x)\n",
        "        x = x.transpose(0, 1) # Transpose back\n",
        "        x = self.transformer_blocks(x)\n",
        "        x = self.output(x)\n",
        "        return x\n",
        ""
      ],
      "metadata": {
        "id": "UT3OMqWzhYiO"
      },
      "execution_count": 7,
      "outputs": []
    },
    {
      "cell_type": "markdown",
      "source": [
        "# Step 7: Training the Model"
      ],
      "metadata": {
        "id": "wuujclhshet_"
      }
    },
    {
      "cell_type": "code",
      "source": [
        "vocab = {\n",
        "    \"hello\": 0, \"world\": 1, \"how\": 2, \"are\": 3, \"you\": 4,\n",
        "    \"\": 5, \"good\": 6, \"morning\": 7, \"evening\": 8, \"night\": 9,\n",
        "    \"friend\": 10, \"nice\": 11, \"to\": 12, \"meet\": 13, \"learning\": 14,\n",
        "    \"AI\": 15, \"is\": 16, \"fun\": 17, \"great\": 18, \"awesome\": 19,\n",
        "    \"day\": 20, \"doing\": 21, \"today\": 22, \"hope\": 23, \"all\": 24,\n",
        "    \"well\": 25\n",
        "}\n",
        "\n",
        "vocab_size = len(vocab)\n",
        "embedding_dim = 16\n",
        "hidden_dim = 32\n",
        "num_layers = 2\n",
        "\n",
        "model = SimpleLLM(vocab_size, embedding_dim, hidden_dim, num_layers)\n",
        "criterion = nn.CrossEntropyLoss()\n",
        "optimizer = optim.Adam(model.parameters(), lr=0.001)\n",
        "\n",
        "data = [\n",
        "    \"hello world how are you\",\n",
        "    \"how are you hello world\",\n",
        "    \"good morning friend\",\n",
        "    \"nice to meet you\",\n",
        "    \"learning AI is fun\",\n",
        "    \"have a great day\",\n",
        "    \"hope you are doing well\",\n",
        "    \"AI is awesome\",\n",
        "    \"what are you doing today\",\n",
        "    \"good evening to all\"\n",
        "]\n",
        "\n",
        "tokenized_data = [tokenize(sentence, vocab) for sentence in data]\n",
        "\n",
        "for epoch in range(100):\n",
        "    for sentence in tokenized_data:\n",
        "        for i in range(1, len(sentence)):\n",
        "            input_seq = torch.tensor(sentence[:i]).unsqueeze(0)\n",
        "            target = torch.tensor(sentence[i]).unsqueeze(0)\n",
        "            optimizer.zero_grad()\n",
        "            output = model(input_seq)\n",
        "            loss = criterion(output[:, -1, :], target)\n",
        "            loss.backward()\n",
        "            optimizer.step()\n",
        "    if epoch % 10 == 0:\n",
        "        print(f\"Epoch {epoch}, Loss: {loss.item()}\")"
      ],
      "metadata": {
        "colab": {
          "base_uri": "https://localhost:8080/"
        },
        "id": "FMOe1hIxhiTx",
        "outputId": "e57c13d5-8904-4c46-aaa5-a9ed51ee5345"
      },
      "execution_count": 8,
      "outputs": [
        {
          "output_type": "stream",
          "name": "stdout",
          "text": [
            "Epoch 0, Loss: 3.103005886077881\n",
            "Epoch 10, Loss: 1.531449794769287\n",
            "Epoch 20, Loss: 0.5827968120574951\n",
            "Epoch 30, Loss: 0.18140405416488647\n",
            "Epoch 40, Loss: 0.08164682239294052\n",
            "Epoch 50, Loss: 0.04790280759334564\n",
            "Epoch 60, Loss: 0.03477703407406807\n",
            "Epoch 70, Loss: 0.02299838326871395\n",
            "Epoch 80, Loss: 0.0157942958176136\n",
            "Epoch 90, Loss: 0.011468908749520779\n"
          ]
        }
      ]
    },
    {
      "cell_type": "markdown",
      "source": [
        "# Step 8: Using the Model"
      ],
      "metadata": {
        "id": "IRMmgUcIhvrw"
      }
    },
    {
      "cell_type": "code",
      "source": [
        "input_text = \"hello \"\n",
        "input_tokens = tokenize(input_text, vocab)\n",
        "input_tensor = torch.tensor(input_tokens).unsqueeze(0)\n",
        "output = model(input_tensor)\n",
        "predicted_token = torch.argmax(output[:, -1, :]).item()\n",
        "print(f\"Input: {input_text}, Predicted: {list(vocab.keys())[list(vocab.values()).index(predicted_token)]}\")\n"
      ],
      "metadata": {
        "colab": {
          "base_uri": "https://localhost:8080/"
        },
        "id": "sC9BFIvohyG7",
        "outputId": "4369576e-8b20-4c0d-8bf3-b5ab51b77ce2"
      },
      "execution_count": 9,
      "outputs": [
        {
          "output_type": "stream",
          "name": "stdout",
          "text": [
            "Input: hello , Predicted: world\n"
          ]
        }
      ]
    }
  ]
}