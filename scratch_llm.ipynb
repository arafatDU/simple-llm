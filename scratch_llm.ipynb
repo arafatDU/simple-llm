{
  "nbformat": 4,
  "nbformat_minor": 0,
  "metadata": {
    "colab": {
      "provenance": [],
      "gpuType": "T4",
      "authorship_tag": "ABX9TyMdJB40TP0NUuSRjbBERDMq",
      "include_colab_link": true
    },
    "kernelspec": {
      "name": "python3",
      "display_name": "Python 3"
    },
    "language_info": {
      "name": "python"
    },
    "accelerator": "GPU"
  },
  "cells": [
    {
      "cell_type": "markdown",
      "metadata": {
        "id": "view-in-github",
        "colab_type": "text"
      },
      "source": [
        "<a href=\"https://colab.research.google.com/github/arafatDU/simple-llm/blob/main/scratch_llm.ipynb\" target=\"_parent\"><img src=\"https://colab.research.google.com/assets/colab-badge.svg\" alt=\"Open In Colab\"/></a>"
      ]
    },
    {
      "cell_type": "markdown",
      "source": [
        "# Building a Large Language Model from Scratch\n",
        "Modern language models (like GPT-4) use transformers, a deep learning architecture that learns word relationships through self-attention. We’ll build a basic transformer-based model to understand how to build a large language model from scratch. The goal of our language model will be to predict the next word.\n",
        "\n",
        "Here are the six main components we’ll cover:\n",
        "\n",
        "* Tokenization\n",
        "* Embedding Layer\n",
        "* Positional Encoding\n",
        "* Self-Attention\n",
        "* Transformer Block\n",
        "* Full Language Model"
      ],
      "metadata": {
        "id": "EEIBFzupqY3G"
      }
    },
    {
      "cell_type": "markdown",
      "source": [
        "# Import Packages"
      ],
      "metadata": {
        "id": "2YCUOKyprE6p"
      }
    },
    {
      "cell_type": "code",
      "source": [
        "\n",
        "import torch\n",
        "import torch.nn as nn\n",
        "import torch.optim as optim\n",
        "import math\n",
        ""
      ],
      "metadata": {
        "id": "1ML2U4bTq4QT"
      },
      "execution_count": 1,
      "outputs": []
    },
    {
      "cell_type": "markdown",
      "source": [
        "# Step 1: Tokenization"
      ],
      "metadata": {
        "id": "DZGKE-8yrJeK"
      }
    },
    {
      "cell_type": "code",
      "source": [
        "\n",
        "def tokenize(text, vocab):\n",
        "    return [vocab.get(word, vocab[\"\"]) for word in text.split()]"
      ],
      "metadata": {
        "id": "jVTIyRmAr7fF"
      },
      "execution_count": 2,
      "outputs": []
    },
    {
      "cell_type": "markdown",
      "source": [
        "# Step 2: Embedding Layer"
      ],
      "metadata": {
        "id": "nY6IPDDgsCHX"
      }
    },
    {
      "cell_type": "code",
      "source": [
        "class Embedding(nn.Module):\n",
        "    def __init__(self, vocab_size, embedding_dim):\n",
        "        super(Embedding, self).__init__()\n",
        "        self.embedding = nn.Embedding(vocab_size, embedding_dim)\n",
        "\n",
        "    def forward(self, x):\n",
        "        return self.embedding(x)"
      ],
      "metadata": {
        "id": "nQEY_EjUsncT"
      },
      "execution_count": 3,
      "outputs": []
    }
  ]
}